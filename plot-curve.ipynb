{
 "cells": [
  {
   "cell_type": "code",
   "execution_count": 1,
   "metadata": {},
   "outputs": [
    {
     "ename": "ModuleNotFoundError",
     "evalue": "No module named 'seaborn'",
     "output_type": "error",
     "traceback": [
      "\u001b[0;31m---------------------------------------------------------------------------\u001b[0m",
      "\u001b[0;31mModuleNotFoundError\u001b[0m                       Traceback (most recent call last)",
      "Cell \u001b[0;32mIn[1], line 1\u001b[0m\n\u001b[0;32m----> 1\u001b[0m \u001b[38;5;28;01mimport\u001b[39;00m \u001b[38;5;21;01mseaborn\u001b[39;00m \u001b[38;5;28;01mas\u001b[39;00m \u001b[38;5;21;01msns\u001b[39;00m\n\u001b[1;32m      2\u001b[0m \u001b[38;5;28;01mimport\u001b[39;00m \u001b[38;5;21;01mpandas\u001b[39;00m \u001b[38;5;28;01mas\u001b[39;00m \u001b[38;5;21;01mpd\u001b[39;00m\n\u001b[1;32m      3\u001b[0m get_ipython()\u001b[38;5;241m.\u001b[39mrun_line_magic(\u001b[38;5;124m'\u001b[39m\u001b[38;5;124mmatplotlib\u001b[39m\u001b[38;5;124m'\u001b[39m, \u001b[38;5;124m'\u001b[39m\u001b[38;5;124minline\u001b[39m\u001b[38;5;124m'\u001b[39m)\n",
      "\u001b[0;31mModuleNotFoundError\u001b[0m: No module named 'seaborn'"
     ]
    }
   ],
   "source": [
    "import seaborn as sns\n",
    "import pandas as pd\n",
    "%matplotlib inline\n",
    "import matplotlib.pyplot as plt\n",
    "from matplotlib import rc\n",
    "\n",
    "palette = ['#ff3b30', '#ffcc00', '#4cd964', '#007aff', '#5856d6', '#ff9500', '#5ac8fa', '#ff2d55']\n",
    "markers = ['o', '^', '<', 'd', '*', '2']\n",
    "sns.set_style(\"ticks\")\n",
    "import matplotlib as mpl\n",
    "\n",
    "mpl.rcParams['lines.markersize'] = 6\n",
    "mpl.rcParams['lines.linewidth'] = 1\n",
    "rc(\"font\", **{'family': 'serif', 'serif': ['Palatino'], 'size': 14})\n",
    "rc('text', usetex=True)\n",
    "import os\n",
    "import io"
   ]
  },
  {
   "cell_type": "code",
   "execution_count": null,
   "metadata": {},
   "outputs": [],
   "source": [
    "\n",
    "def plot_one_metric(total, name, title, metric_name, show_title=False, show_ylabel=True):\n",
    "    racing_cvgp=[abs(float(line.split(\"\\t\")[0])) for line in total.split(\"\\n\")]\n",
    "    EGP=[abs(float(line.split(\"\\t\")[1])) for line in total.split(\"\\n\")]\n",
    "    GP=[abs(float(line.split(\"\\t\")[2])) for line in total.split(\"\\n\")]\n",
    "    VPG=[abs(float(line.split(\"\\t\")[3])) for line in total.split(\"\\n\")]\n",
    "    PQT=[abs(float(line.split(\"\\t\")[4])) for line in total.split(\"\\n\")]\n",
    "    DSR=[abs(float(line.split(\"\\t\")[5])) for line in total.split(\"\\n\")]\n",
    "    GPMELD=[abs(float(line.split(\"\\t\")[6])) for line in total.split(\"\\n\")]\n",
    "    eureqa=[abs(float(line.split(\"\\t\")[7])) for line in total.split(\"\\n\")]\n",
    "    \n",
    "    df=pd.DataFrame({\n",
    "        \"model\": racing_cvgp+EGP+GP+VPG+PQT+DSR+GPMELD,#+eureqa,\n",
    "        \"type\": ['Racing-CVGP(ours)']*10+['CVGP']*10+['GP']*10+['VPG']*10+['PQT']*10+['DSR']*10+['GPMeld']*10#+['Eureqa']*10\n",
    "    })\n",
    "    \n",
    "\n",
    "    plt.figure(figsize=(3,3))\n",
    "    ax=sns.boxplot(data=df, x=\"model\", y=\"type\", \n",
    "                   showfliers=False, \n",
    "                   width=0.5,\n",
    "                    palette=palette)\n",
    "    if show_title==True:\n",
    "        ax.set_title(title, fontsize=16)\n",
    "    \n",
    "    ax.set(xlabel=metric_name, ylabel='')\n",
    "    plt.xscale('log', base=10)\n",
    "    if show_ylabel==False:\n",
    "        ax.set(yticklabels=[])\n",
    "    plt.yticks(rotation=30)\n",
    "\n",
    "    fname = os.path.join(basepath, name+\"_metric.pdf\")\n",
    "    print(\"saving to\", fname)\n",
    "    plt.savefig(fname, bbox_inches='tight', pad_inches=0)"
   ]
  }
 ],
 "metadata": {
  "kernelspec": {
   "display_name": "Python 3",
   "language": "python",
   "name": "python3"
  },
  "language_info": {
   "codemirror_mode": {
    "name": "ipython",
    "version": 3
   },
   "file_extension": ".py",
   "mimetype": "text/x-python",
   "name": "python",
   "nbconvert_exporter": "python",
   "pygments_lexer": "ipython3",
   "version": "3.12.4"
  }
 },
 "nbformat": 4,
 "nbformat_minor": 2
}
